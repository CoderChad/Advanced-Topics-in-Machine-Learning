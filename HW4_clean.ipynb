{
 "cells": [
  {
   "cell_type": "markdown",
   "id": "dea5ad92",
   "metadata": {},
   "source": [
    "# Homework 4: H2O Modeling with RF & GBM\n",
    "\n",
    "This notebook contains all questions immediately followed by their corresponding code answers, grouped and ordered for clarity."
   ]
  },
  {
   "cell_type": "markdown",
   "id": "9cf4a535",
   "metadata": {},
   "source": [
    "## 1. Setup\n",
    "\n",
    "**1.1 Install & import libraries**"
   ]
  },
  {
   "cell_type": "code",
   "execution_count": null,
   "id": "6960657d",
   "metadata": {},
   "outputs": [],
   "source": [
    "!pip install -q h2o\n",
    "\n",
    "import h2o\n",
    "from h2o.estimators.random_forest import H2ORandomForestEstimator\n",
    "from h2o.estimators.gbm import H2OGradientBoostingEstimator\n",
    "from h2o.grid import H2OGridSearch\n",
    "\n",
    "# Initialize H2O server\n",
    "h2o.init()"
   ]
  },
  {
   "cell_type": "markdown",
   "id": "341f5e7b",
   "metadata": {},
   "source": [
    "## 2. Data Loading & Preprocessing\n",
    "\n",
    "**2.1 Load the dataset**"
   ]
  },
  {
   "cell_type": "code",
   "execution_count": null,
   "id": "04a159a7",
   "metadata": {},
   "outputs": [],
   "source": [
    "dataset = h2o.import_file(\"/path/to/your/data.csv\")  # <-- update with your file path"
   ]
  },
  {
   "cell_type": "markdown",
   "id": "acd47f35",
   "metadata": {},
   "source": [
    "**2.2 Convert all columns to factors (categorical)**"
   ]
  },
  {
   "cell_type": "code",
   "execution_count": null,
   "id": "6afae8cb",
   "metadata": {},
   "outputs": [],
   "source": [
    "for col in dataset.columns:\n",
    "    dataset[col] = dataset[col].asfactor()"
   ]
  },
  {
   "cell_type": "markdown",
   "id": "a28648e0",
   "metadata": {},
   "source": [
    "**2.3 Split into train/validation sets**"
   ]
  },
  {
   "cell_type": "code",
   "execution_count": null,
   "id": "269046cc",
   "metadata": {},
   "outputs": [],
   "source": [
    "train, valid = dataset.split_frame(ratios=[0.8], seed=1234)"
   ]
  },
  {
   "cell_type": "markdown",
   "id": "f4ad8011",
   "metadata": {},
   "source": [
    "**2.4 Define response & feature list**\n",
    "\n",
    "*Question 2.4:* Which column is our target?"
   ]
  },
  {
   "cell_type": "code",
   "execution_count": null,
   "id": "64409587",
   "metadata": {},
   "outputs": [],
   "source": [
    "response = \"target_column_name\"  # <-- set your target column name\n",
    "features = train.col_names[:]\n",
    "features.remove(response)"
   ]
  },
  {
   "cell_type": "markdown",
   "id": "df4ff523",
   "metadata": {},
   "source": [
    "## 3. Random Forest (DRF) with Cross-Validation\n",
    "\n",
    "**3.1 Train a distributed RF with 5-fold CV**\n",
    "\n",
    "*Question 3.1:*"
   ]
  },
  {
   "cell_type": "code",
   "execution_count": null,
   "id": "cf028f72",
   "metadata": {},
   "outputs": [],
   "source": [
    "drf = H2ORandomForestEstimator(nfolds=5, seed=42)\n",
    "drf.train(x=features, y=response,\n",
    "          training_frame=train,\n",
    "          validation_frame=valid)"
   ]
  },
  {
   "cell_type": "markdown",
   "id": "cf65cf7a",
   "metadata": {},
   "source": [
    "**3.2 View DRF performance on validation set**"
   ]
  },
  {
   "cell_type": "code",
   "execution_count": null,
   "id": "3910f5ee",
   "metadata": {},
   "outputs": [],
   "source": [
    "print(drf.model_performance(valid))"
   ]
  },
  {
   "cell_type": "markdown",
   "id": "25fab7d5",
   "metadata": {},
   "source": [
    "## 4. Grid Search for GBM\n",
    "\n",
    "**4.1 Define GBM hyperparameter grid**\n",
    "\n",
    "*Question 4.1:*"
   ]
  },
  {
   "cell_type": "code",
   "execution_count": null,
   "id": "ade09158",
   "metadata": {},
   "outputs": [],
   "source": [
    "gbm_hyper_params = {\n",
    "    \"max_depth\": [3, 5, 7],\n",
    "    \"ntrees\":    [50, 100, 200],\n",
    "    \"learn_rate\":[0.01, 0.1]\n",
    "}"
   ]
  },
  {
   "cell_type": "markdown",
   "id": "1c9b13a1",
   "metadata": {},
   "source": [
    "**4.2 Run grid search with Cartesian strategy**\n",
    "\n",
    "*Question 4.2:*"
   ]
  },
  {
   "cell_type": "code",
   "execution_count": null,
   "id": "61cdd5d5",
   "metadata": {},
   "outputs": [],
   "source": [
    "gbm_grid = H2OGridSearch(\n",
    "    model=H2OGradientBoostingEstimator,\n",
    "    hyper_params=gbm_hyper_params,\n",
    "    search_criteria={\"strategy\": \"Cartesian\"}\n",
    ")\n",
    "\n",
    "gbm_grid.train(x=features, y=response,\n",
    "               training_frame=train,\n",
    "               validation_frame=valid,\n",
    "               seed=42)"
   ]
  },
  {
   "cell_type": "markdown",
   "id": "309b26f4",
   "metadata": {},
   "source": [
    "**4.3 Inspect best GBM model by AUC**\n",
    "\n",
    "*Question 4.3:*"
   ]
  },
  {
   "cell_type": "code",
   "execution_count": null,
   "id": "91651062",
   "metadata": {},
   "outputs": [],
   "source": [
    "best_gbm = gbm_grid.get_grid(sort_by=\"auc\", decreasing=True)[0]\n",
    "print(best_gbm.model_performance(valid))"
   ]
  },
  {
   "cell_type": "markdown",
   "id": "a4b9ebc0",
   "metadata": {},
   "source": [
    "## 5. Final Evaluation & Comparison\n",
    "\n",
    "**5.1 Compare DRF vs. best GBM by AUC**"
   ]
  },
  {
   "cell_type": "code",
   "execution_count": null,
   "id": "2487d260",
   "metadata": {},
   "outputs": [],
   "source": [
    "perf_drf = drf.model_performance(valid)\n",
    "perf_gbm = best_gbm.model_performance(valid)\n",
    "\n",
    "print(\"DRF AUC:\", perf_drf.auc())\n",
    "print(\"GBM AUC:\", perf_gbm.auc())"
   ]
  },
  {
   "cell_type": "markdown",
   "id": "7569088d",
   "metadata": {},
   "source": [
    "**5.2 Shutdown H2O**"
   ]
  },
  {
   "cell_type": "code",
   "execution_count": null,
   "id": "90019a77",
   "metadata": {},
   "outputs": [],
   "source": [
    "h2o.shutdown(prompt=False)"
   ]
  }
 ],
 "metadata": {},
 "nbformat": 4,
 "nbformat_minor": 5
}
